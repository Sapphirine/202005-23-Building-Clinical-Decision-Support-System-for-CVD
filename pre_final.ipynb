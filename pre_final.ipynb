{
 "cells": [
  {
   "cell_type": "code",
   "execution_count": 1,
   "metadata": {},
   "outputs": [],
   "source": [
    "import ipywidgets as widgets\n",
    "import matplotlib\n",
    "matplotlib.use('Agg')  # 不出现画图的框\n",
    "import matplotlib.pyplot as plt\n",
    "from io import BytesIO\n",
    "import base64\n",
    "from matplotlib.figure import Figure \n",
    "import warnings\n",
    "warnings.filterwarnings('ignore')\n",
    "from PIL import Image"
   ]
  },
  {
   "cell_type": "code",
   "execution_count": 2,
   "metadata": {},
   "outputs": [],
   "source": [
    "%store -r id_list\n",
    "%store -r dict_output\n",
    "%store -r res_dic \n",
    "%store -r admission\n",
    "%store -r dic_distance \n",
    "%store -r df_code "
   ]
  },
  {
   "cell_type": "code",
   "execution_count": 3,
   "metadata": {},
   "outputs": [],
   "source": [
    "input_text = widgets.Text(description='your_id')\n",
    "input_text1 = widgets.Text(description='icd9 code')\n",
    "input_text2 = widgets.Text(description='set clusters')"
   ]
  },
  {
   "cell_type": "code",
   "execution_count": 4,
   "metadata": {},
   "outputs": [],
   "source": [
    "submit_button_00 = widgets.Button(\n",
    "    description='about icd9 code:',\n",
    "    layout=widgets.Layout(left='220px'))\n",
    "\n",
    "submit_button_0 = widgets.Button(\n",
    "    description='my records',\n",
    "    layout=widgets.Layout(left='220px'))\n",
    "\n",
    "submit_button_1 = widgets.Button(\n",
    "    description='similar patients id:',\n",
    "    layout=widgets.Layout(left='220px'))\n",
    "\n",
    "submit_button_2 = widgets.Button(\n",
    "    description='top-5 risk diseases:',\n",
    "    layout=widgets.Layout(left='220px'))\n",
    "\n",
    "submit_button_3 = widgets.Button(\n",
    "    description='all patients clusters:',\n",
    "    layout=widgets.Layout(left='220px'))\n"
   ]
  },
  {
   "cell_type": "code",
   "execution_count": 5,
   "metadata": {},
   "outputs": [],
   "source": [
    "html0 = widgets.HTML(value='')\n",
    "html00 = widgets.HTML(value='')\n",
    "html1 = widgets.HTML(value='')\n",
    "html2 = widgets.HTML(value='')\n",
    "html3 = widgets.HTML(value='')\n",
    "html4 = widgets.HTML(value='')"
   ]
  },
  {
   "cell_type": "code",
   "execution_count": 6,
   "metadata": {},
   "outputs": [],
   "source": [
    "def visual_res(id_num):\n",
    "    lst = res_dic[id_num]\n",
    "    m = [0,1,2,3,4]\n",
    "    x = [lst[idx][0] for idx in m]   \n",
    "    y = [lst[idx][1] for idx in m] \n",
    "    plt.figure(figsize=(8,5))\n",
    "    plt.bar(x,y)\n",
    "    plt.xlabel('risk disease')\n",
    "    plt.ylabel('risk probability')\n",
    "    buf = BytesIO()\n",
    "    plt.savefig(buf, format=\"png\")\n",
    "    plt.close()\n",
    "    # Embed the result in the html output.\n",
    "    data = base64.b64encode(buf.getbuffer()).decode(\"ascii\")\n",
    "    return f\"<img src='data:image/png;base64,{data}'/>\""
   ]
  },
  {
   "cell_type": "code",
   "execution_count": 7,
   "metadata": {},
   "outputs": [],
   "source": [
    "def load_kmeans(b):\n",
    "    load_dict = {2:'k2.png', 5:'k5.png', 10:'k10.png', 30:'k30.png', 50:'k50.png'}\n",
    "    with open(load_dict[b], 'rb') as f:  # 以二进制读取图片\n",
    "        data = f.read()\n",
    "    pic = base64.b64encode(data).decode(\"ascii\")\n",
    "    return f\"<img src='data:image/png;base64,{pic}'/>\""
   ]
  },
  {
   "cell_type": "code",
   "execution_count": 8,
   "metadata": {},
   "outputs": [],
   "source": [
    "def submit_00(*ignore):\n",
    "    id_num = int(input_text.value)\n",
    "    code = str(input_text1.value) \n",
    "    b = int(input_text2.value)\n",
    "    if id_num not in id_list:\n",
    "        html00.value = f'sorry,your id is not in our database'\n",
    "    else:\n",
    "        html00.value = df_code.loc[[code]].to_html()\n",
    "\n",
    "def submit_0(*ignore):\n",
    "    id_num = int(input_text.value)\n",
    "    b = int(input_text2.value)\n",
    "    if id_num not in id_list:\n",
    "        html0.value = f'sorry,your id is not in our database'\n",
    "    else:\n",
    "        html0.value = admission.loc[[id_num]].to_html()\n",
    "\n",
    "def submit_1(*ignore):\n",
    "    id_num = int(input_text.value)\n",
    "    b = int(input_text2.value)\n",
    "    if id_num not in id_list:\n",
    "        html1.value = f'sorry,your id is not in our database'\n",
    "    else:\n",
    "        html1.value = str(dic_distance[id_num])\n",
    "        \n",
    "        \n",
    "def submit_2(*ignore):\n",
    "    id_num = int(input_text.value)\n",
    "    b = int(input_text2.value)\n",
    "    if id_num not in id_list:\n",
    "        html2.value = f'sorry,your id is not in our database'\n",
    "    else:\n",
    "        html2.value = 'your top-5 potential diseases:'+ visual_res(id_num)   # the plot of probability\n",
    "        html3.value = str(res_dic[id_num])\n",
    "        \n",
    "def submit_3(*ignore):\n",
    "    id_num = int(input_text.value)\n",
    "    b = int(input_text2.value)\n",
    "    if id_num not in id_list:\n",
    "        html4.value = f'sorry,your id is not in our database'\n",
    "    else:\n",
    "        html4.value = load_kmeans(b)\n",
    "        \n",
    "submit_button_00.on_click(submit_00)                \n",
    "submit_button_0.on_click(submit_0)        \n",
    "submit_button_1.on_click(submit_1)\n",
    "submit_button_2.on_click(submit_2)\n",
    "submit_button_3.on_click(submit_3)"
   ]
  },
  {
   "cell_type": "code",
   "execution_count": 9,
   "metadata": {},
   "outputs": [
    {
     "data": {
      "application/vnd.jupyter.widget-view+json": {
       "model_id": "1e16d6a653c749aba3a16d8600c73a1a",
       "version_major": 2,
       "version_minor": 0
      },
      "text/plain": [
       "VBox(children=(HBox(children=(Text(value='', description='your_id'), Text(value='', description='icd9 code'), …"
      ]
     },
     "metadata": {},
     "output_type": "display_data"
    }
   ],
   "source": [
    "widgets.VBox([\n",
    "    widgets.HBox([\n",
    "        input_text,\n",
    "        input_text1,\n",
    "        input_text2\n",
    "    ]),\n",
    "    submit_button_00,\n",
    "    html00,\n",
    "    submit_button_0,\n",
    "    html0,\n",
    "    submit_button_1,\n",
    "    html1,\n",
    "    submit_button_2,\n",
    "    html2,\n",
    "    html3,\n",
    "    submit_button_3,\n",
    "    html4\n",
    "])"
   ]
  },
  {
   "cell_type": "code",
   "execution_count": null,
   "metadata": {},
   "outputs": [],
   "source": []
  }
 ],
 "metadata": {
  "kernelspec": {
   "display_name": "py3",
   "language": "python",
   "name": "py3"
  },
  "language_info": {
   "codemirror_mode": {
    "name": "ipython",
    "version": 3
   },
   "file_extension": ".py",
   "mimetype": "text/x-python",
   "name": "python",
   "nbconvert_exporter": "python",
   "pygments_lexer": "ipython3",
   "version": "3.7.6"
  }
 },
 "nbformat": 4,
 "nbformat_minor": 2
}
