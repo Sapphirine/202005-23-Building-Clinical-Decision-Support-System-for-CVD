{
 "cells": [
  {
   "cell_type": "markdown",
   "metadata": {},
   "source": [
    "# preprocessing"
   ]
  },
  {
   "cell_type": "code",
   "execution_count": 1,
   "metadata": {},
   "outputs": [],
   "source": [
    "import numpy as np\n",
    "import pandas as pd \n",
    "import matplotlib.pyplot as plt\n",
    "import warnings\n",
    "warnings.filterwarnings('ignore')\n",
    "from datetime import datetime "
   ]
  },
  {
   "cell_type": "code",
   "execution_count": 2,
   "metadata": {},
   "outputs": [],
   "source": [
    "admission = pd.read_csv('admission.csv',index_col=0)"
   ]
  },
  {
   "cell_type": "code",
   "execution_count": 3,
   "metadata": {},
   "outputs": [
    {
     "data": {
      "text/plain": [
       "NEWBORN                                                                                      7823\n",
       "PNEUMONIA                                                                                    1566\n",
       "SEPSIS                                                                                       1184\n",
       "CONGESTIVE HEART FAILURE                                                                      928\n",
       "CORONARY ARTERY DISEASE                                                                       840\n",
       "                                                                                             ... \n",
       "LOWER GASTROINTESTINAL BLEED;LUNG CANCER                                                        1\n",
       "AORTIC VALVE DISORDER\\AORTIC VALVE REPLACEMENT POSSIBLE CORONARY ARTERY BYPASS GRAFT /SDA       1\n",
       "SEVERE AS\\ BENTAL PROCEDURE W/ ? HOMOGRAFT/SDA                                                  1\n",
       "ANEMIA/THROMBOCYTOPNEIA/FEVER                                                                   1\n",
       "PANCREATITIS;PSEUDOCYST                                                                         1\n",
       "Name: DIAGNOSIS, Length: 15691, dtype: int64"
      ]
     },
     "execution_count": 3,
     "metadata": {},
     "output_type": "execute_result"
    }
   ],
   "source": [
    "admission['DIAGNOSIS'].value_counts()"
   ]
  },
  {
   "cell_type": "code",
   "execution_count": 4,
   "metadata": {},
   "outputs": [
    {
     "data": {
      "text/html": [
       "<div>\n",
       "<style scoped>\n",
       "    .dataframe tbody tr th:only-of-type {\n",
       "        vertical-align: middle;\n",
       "    }\n",
       "\n",
       "    .dataframe tbody tr th {\n",
       "        vertical-align: top;\n",
       "    }\n",
       "\n",
       "    .dataframe thead th {\n",
       "        text-align: right;\n",
       "    }\n",
       "</style>\n",
       "<table border=\"1\" class=\"dataframe\">\n",
       "  <thead>\n",
       "    <tr style=\"text-align: right;\">\n",
       "      <th></th>\n",
       "      <th>ROW_ID</th>\n",
       "      <th>SUBJECT_ID</th>\n",
       "      <th>HADM_ID</th>\n",
       "      <th>ADMITTIME</th>\n",
       "      <th>DISCHTIME</th>\n",
       "      <th>DEATHTIME</th>\n",
       "      <th>ADMISSION_TYPE</th>\n",
       "      <th>ADMISSION_LOCATION</th>\n",
       "      <th>DISCHARGE_LOCATION</th>\n",
       "      <th>INSURANCE</th>\n",
       "      <th>LANGUAGE</th>\n",
       "      <th>RELIGION</th>\n",
       "      <th>MARITAL_STATUS</th>\n",
       "      <th>ETHNICITY</th>\n",
       "      <th>EDREGTIME</th>\n",
       "      <th>EDOUTTIME</th>\n",
       "      <th>DIAGNOSIS</th>\n",
       "      <th>HOSPITAL_EXPIRE_FLAG</th>\n",
       "      <th>HAS_CHARTEVENTS_DATA</th>\n",
       "    </tr>\n",
       "  </thead>\n",
       "  <tbody>\n",
       "    <tr>\n",
       "      <th>0</th>\n",
       "      <td>21</td>\n",
       "      <td>22</td>\n",
       "      <td>165315</td>\n",
       "      <td>2196-04-09 12:26:00</td>\n",
       "      <td>2196-04-10 15:54:00</td>\n",
       "      <td>NaN</td>\n",
       "      <td>EMERGENCY</td>\n",
       "      <td>EMERGENCY ROOM ADMIT</td>\n",
       "      <td>DISC-TRAN CANCER/CHLDRN H</td>\n",
       "      <td>Private</td>\n",
       "      <td>NaN</td>\n",
       "      <td>UNOBTAINABLE</td>\n",
       "      <td>MARRIED</td>\n",
       "      <td>WHITE</td>\n",
       "      <td>2196-04-09 10:06:00</td>\n",
       "      <td>2196-04-09 13:24:00</td>\n",
       "      <td>BENZODIAZEPINE OVERDOSE</td>\n",
       "      <td>0</td>\n",
       "      <td>1</td>\n",
       "    </tr>\n",
       "    <tr>\n",
       "      <th>1</th>\n",
       "      <td>22</td>\n",
       "      <td>23</td>\n",
       "      <td>152223</td>\n",
       "      <td>2153-09-03 07:15:00</td>\n",
       "      <td>2153-09-08 19:10:00</td>\n",
       "      <td>NaN</td>\n",
       "      <td>ELECTIVE</td>\n",
       "      <td>PHYS REFERRAL/NORMAL DELI</td>\n",
       "      <td>HOME HEALTH CARE</td>\n",
       "      <td>Medicare</td>\n",
       "      <td>NaN</td>\n",
       "      <td>CATHOLIC</td>\n",
       "      <td>MARRIED</td>\n",
       "      <td>WHITE</td>\n",
       "      <td>NaN</td>\n",
       "      <td>NaN</td>\n",
       "      <td>CORONARY ARTERY DISEASE\\CORONARY ARTERY BYPASS...</td>\n",
       "      <td>0</td>\n",
       "      <td>1</td>\n",
       "    </tr>\n",
       "    <tr>\n",
       "      <th>2</th>\n",
       "      <td>23</td>\n",
       "      <td>23</td>\n",
       "      <td>124321</td>\n",
       "      <td>2157-10-18 19:34:00</td>\n",
       "      <td>2157-10-25 14:00:00</td>\n",
       "      <td>NaN</td>\n",
       "      <td>EMERGENCY</td>\n",
       "      <td>TRANSFER FROM HOSP/EXTRAM</td>\n",
       "      <td>HOME HEALTH CARE</td>\n",
       "      <td>Medicare</td>\n",
       "      <td>ENGL</td>\n",
       "      <td>CATHOLIC</td>\n",
       "      <td>MARRIED</td>\n",
       "      <td>WHITE</td>\n",
       "      <td>NaN</td>\n",
       "      <td>NaN</td>\n",
       "      <td>BRAIN MASS</td>\n",
       "      <td>0</td>\n",
       "      <td>1</td>\n",
       "    </tr>\n",
       "    <tr>\n",
       "      <th>3</th>\n",
       "      <td>24</td>\n",
       "      <td>24</td>\n",
       "      <td>161859</td>\n",
       "      <td>2139-06-06 16:14:00</td>\n",
       "      <td>2139-06-09 12:48:00</td>\n",
       "      <td>NaN</td>\n",
       "      <td>EMERGENCY</td>\n",
       "      <td>TRANSFER FROM HOSP/EXTRAM</td>\n",
       "      <td>HOME</td>\n",
       "      <td>Private</td>\n",
       "      <td>NaN</td>\n",
       "      <td>PROTESTANT QUAKER</td>\n",
       "      <td>SINGLE</td>\n",
       "      <td>WHITE</td>\n",
       "      <td>NaN</td>\n",
       "      <td>NaN</td>\n",
       "      <td>INTERIOR MYOCARDIAL INFARCTION</td>\n",
       "      <td>0</td>\n",
       "      <td>1</td>\n",
       "    </tr>\n",
       "    <tr>\n",
       "      <th>4</th>\n",
       "      <td>25</td>\n",
       "      <td>25</td>\n",
       "      <td>129635</td>\n",
       "      <td>2160-11-02 02:06:00</td>\n",
       "      <td>2160-11-05 14:55:00</td>\n",
       "      <td>NaN</td>\n",
       "      <td>EMERGENCY</td>\n",
       "      <td>EMERGENCY ROOM ADMIT</td>\n",
       "      <td>HOME</td>\n",
       "      <td>Private</td>\n",
       "      <td>NaN</td>\n",
       "      <td>UNOBTAINABLE</td>\n",
       "      <td>MARRIED</td>\n",
       "      <td>WHITE</td>\n",
       "      <td>2160-11-02 01:01:00</td>\n",
       "      <td>2160-11-02 04:27:00</td>\n",
       "      <td>ACUTE CORONARY SYNDROME</td>\n",
       "      <td>0</td>\n",
       "      <td>1</td>\n",
       "    </tr>\n",
       "    <tr>\n",
       "      <th>...</th>\n",
       "      <td>...</td>\n",
       "      <td>...</td>\n",
       "      <td>...</td>\n",
       "      <td>...</td>\n",
       "      <td>...</td>\n",
       "      <td>...</td>\n",
       "      <td>...</td>\n",
       "      <td>...</td>\n",
       "      <td>...</td>\n",
       "      <td>...</td>\n",
       "      <td>...</td>\n",
       "      <td>...</td>\n",
       "      <td>...</td>\n",
       "      <td>...</td>\n",
       "      <td>...</td>\n",
       "      <td>...</td>\n",
       "      <td>...</td>\n",
       "      <td>...</td>\n",
       "      <td>...</td>\n",
       "    </tr>\n",
       "    <tr>\n",
       "      <th>58971</th>\n",
       "      <td>58594</td>\n",
       "      <td>98800</td>\n",
       "      <td>191113</td>\n",
       "      <td>2131-03-30 21:13:00</td>\n",
       "      <td>2131-04-02 15:02:00</td>\n",
       "      <td>NaN</td>\n",
       "      <td>EMERGENCY</td>\n",
       "      <td>CLINIC REFERRAL/PREMATURE</td>\n",
       "      <td>HOME</td>\n",
       "      <td>Private</td>\n",
       "      <td>ENGL</td>\n",
       "      <td>NOT SPECIFIED</td>\n",
       "      <td>SINGLE</td>\n",
       "      <td>WHITE</td>\n",
       "      <td>2131-03-30 19:44:00</td>\n",
       "      <td>2131-03-30 22:41:00</td>\n",
       "      <td>TRAUMA</td>\n",
       "      <td>0</td>\n",
       "      <td>1</td>\n",
       "    </tr>\n",
       "    <tr>\n",
       "      <th>58972</th>\n",
       "      <td>58595</td>\n",
       "      <td>98802</td>\n",
       "      <td>101071</td>\n",
       "      <td>2151-03-05 20:00:00</td>\n",
       "      <td>2151-03-06 09:10:00</td>\n",
       "      <td>2151-03-06 09:10:00</td>\n",
       "      <td>EMERGENCY</td>\n",
       "      <td>CLINIC REFERRAL/PREMATURE</td>\n",
       "      <td>DEAD/EXPIRED</td>\n",
       "      <td>Medicare</td>\n",
       "      <td>ENGL</td>\n",
       "      <td>CATHOLIC</td>\n",
       "      <td>WIDOWED</td>\n",
       "      <td>WHITE</td>\n",
       "      <td>2151-03-05 17:23:00</td>\n",
       "      <td>2151-03-05 21:06:00</td>\n",
       "      <td>SAH</td>\n",
       "      <td>1</td>\n",
       "      <td>1</td>\n",
       "    </tr>\n",
       "    <tr>\n",
       "      <th>58973</th>\n",
       "      <td>58596</td>\n",
       "      <td>98805</td>\n",
       "      <td>122631</td>\n",
       "      <td>2200-09-12 07:15:00</td>\n",
       "      <td>2200-09-20 12:08:00</td>\n",
       "      <td>NaN</td>\n",
       "      <td>ELECTIVE</td>\n",
       "      <td>PHYS REFERRAL/NORMAL DELI</td>\n",
       "      <td>HOME HEALTH CARE</td>\n",
       "      <td>Private</td>\n",
       "      <td>ENGL</td>\n",
       "      <td>NOT SPECIFIED</td>\n",
       "      <td>MARRIED</td>\n",
       "      <td>WHITE</td>\n",
       "      <td>NaN</td>\n",
       "      <td>NaN</td>\n",
       "      <td>RENAL CANCER/SDA</td>\n",
       "      <td>0</td>\n",
       "      <td>1</td>\n",
       "    </tr>\n",
       "    <tr>\n",
       "      <th>58974</th>\n",
       "      <td>58597</td>\n",
       "      <td>98813</td>\n",
       "      <td>170407</td>\n",
       "      <td>2128-11-11 02:29:00</td>\n",
       "      <td>2128-12-22 13:11:00</td>\n",
       "      <td>NaN</td>\n",
       "      <td>EMERGENCY</td>\n",
       "      <td>EMERGENCY ROOM ADMIT</td>\n",
       "      <td>SNF</td>\n",
       "      <td>Private</td>\n",
       "      <td>ENGL</td>\n",
       "      <td>CATHOLIC</td>\n",
       "      <td>MARRIED</td>\n",
       "      <td>WHITE</td>\n",
       "      <td>2128-11-10 23:48:00</td>\n",
       "      <td>2128-11-11 03:16:00</td>\n",
       "      <td>S/P FALL</td>\n",
       "      <td>0</td>\n",
       "      <td>0</td>\n",
       "    </tr>\n",
       "    <tr>\n",
       "      <th>58975</th>\n",
       "      <td>58598</td>\n",
       "      <td>98813</td>\n",
       "      <td>190264</td>\n",
       "      <td>2131-10-25 03:09:00</td>\n",
       "      <td>2131-10-26 17:44:00</td>\n",
       "      <td>NaN</td>\n",
       "      <td>EMERGENCY</td>\n",
       "      <td>CLINIC REFERRAL/PREMATURE</td>\n",
       "      <td>HOME</td>\n",
       "      <td>Private</td>\n",
       "      <td>ENGL</td>\n",
       "      <td>CATHOLIC</td>\n",
       "      <td>MARRIED</td>\n",
       "      <td>WHITE</td>\n",
       "      <td>2131-10-25 00:08:00</td>\n",
       "      <td>2131-10-25 04:35:00</td>\n",
       "      <td>INTRACRANIAL HEMORRHAGE</td>\n",
       "      <td>0</td>\n",
       "      <td>1</td>\n",
       "    </tr>\n",
       "  </tbody>\n",
       "</table>\n",
       "<p>58951 rows × 19 columns</p>\n",
       "</div>"
      ],
      "text/plain": [
       "       ROW_ID  SUBJECT_ID  HADM_ID            ADMITTIME            DISCHTIME  \\\n",
       "0          21          22   165315  2196-04-09 12:26:00  2196-04-10 15:54:00   \n",
       "1          22          23   152223  2153-09-03 07:15:00  2153-09-08 19:10:00   \n",
       "2          23          23   124321  2157-10-18 19:34:00  2157-10-25 14:00:00   \n",
       "3          24          24   161859  2139-06-06 16:14:00  2139-06-09 12:48:00   \n",
       "4          25          25   129635  2160-11-02 02:06:00  2160-11-05 14:55:00   \n",
       "...       ...         ...      ...                  ...                  ...   \n",
       "58971   58594       98800   191113  2131-03-30 21:13:00  2131-04-02 15:02:00   \n",
       "58972   58595       98802   101071  2151-03-05 20:00:00  2151-03-06 09:10:00   \n",
       "58973   58596       98805   122631  2200-09-12 07:15:00  2200-09-20 12:08:00   \n",
       "58974   58597       98813   170407  2128-11-11 02:29:00  2128-12-22 13:11:00   \n",
       "58975   58598       98813   190264  2131-10-25 03:09:00  2131-10-26 17:44:00   \n",
       "\n",
       "                 DEATHTIME ADMISSION_TYPE         ADMISSION_LOCATION  \\\n",
       "0                      NaN      EMERGENCY       EMERGENCY ROOM ADMIT   \n",
       "1                      NaN       ELECTIVE  PHYS REFERRAL/NORMAL DELI   \n",
       "2                      NaN      EMERGENCY  TRANSFER FROM HOSP/EXTRAM   \n",
       "3                      NaN      EMERGENCY  TRANSFER FROM HOSP/EXTRAM   \n",
       "4                      NaN      EMERGENCY       EMERGENCY ROOM ADMIT   \n",
       "...                    ...            ...                        ...   \n",
       "58971                  NaN      EMERGENCY  CLINIC REFERRAL/PREMATURE   \n",
       "58972  2151-03-06 09:10:00      EMERGENCY  CLINIC REFERRAL/PREMATURE   \n",
       "58973                  NaN       ELECTIVE  PHYS REFERRAL/NORMAL DELI   \n",
       "58974                  NaN      EMERGENCY       EMERGENCY ROOM ADMIT   \n",
       "58975                  NaN      EMERGENCY  CLINIC REFERRAL/PREMATURE   \n",
       "\n",
       "              DISCHARGE_LOCATION INSURANCE LANGUAGE           RELIGION  \\\n",
       "0      DISC-TRAN CANCER/CHLDRN H   Private      NaN       UNOBTAINABLE   \n",
       "1               HOME HEALTH CARE  Medicare      NaN           CATHOLIC   \n",
       "2               HOME HEALTH CARE  Medicare     ENGL           CATHOLIC   \n",
       "3                           HOME   Private      NaN  PROTESTANT QUAKER   \n",
       "4                           HOME   Private      NaN       UNOBTAINABLE   \n",
       "...                          ...       ...      ...                ...   \n",
       "58971                       HOME   Private     ENGL      NOT SPECIFIED   \n",
       "58972               DEAD/EXPIRED  Medicare     ENGL           CATHOLIC   \n",
       "58973           HOME HEALTH CARE   Private     ENGL      NOT SPECIFIED   \n",
       "58974                        SNF   Private     ENGL           CATHOLIC   \n",
       "58975                       HOME   Private     ENGL           CATHOLIC   \n",
       "\n",
       "      MARITAL_STATUS ETHNICITY            EDREGTIME            EDOUTTIME  \\\n",
       "0            MARRIED     WHITE  2196-04-09 10:06:00  2196-04-09 13:24:00   \n",
       "1            MARRIED     WHITE                  NaN                  NaN   \n",
       "2            MARRIED     WHITE                  NaN                  NaN   \n",
       "3             SINGLE     WHITE                  NaN                  NaN   \n",
       "4            MARRIED     WHITE  2160-11-02 01:01:00  2160-11-02 04:27:00   \n",
       "...              ...       ...                  ...                  ...   \n",
       "58971         SINGLE     WHITE  2131-03-30 19:44:00  2131-03-30 22:41:00   \n",
       "58972        WIDOWED     WHITE  2151-03-05 17:23:00  2151-03-05 21:06:00   \n",
       "58973        MARRIED     WHITE                  NaN                  NaN   \n",
       "58974        MARRIED     WHITE  2128-11-10 23:48:00  2128-11-11 03:16:00   \n",
       "58975        MARRIED     WHITE  2131-10-25 00:08:00  2131-10-25 04:35:00   \n",
       "\n",
       "                                               DIAGNOSIS  \\\n",
       "0                                BENZODIAZEPINE OVERDOSE   \n",
       "1      CORONARY ARTERY DISEASE\\CORONARY ARTERY BYPASS...   \n",
       "2                                             BRAIN MASS   \n",
       "3                         INTERIOR MYOCARDIAL INFARCTION   \n",
       "4                                ACUTE CORONARY SYNDROME   \n",
       "...                                                  ...   \n",
       "58971                                             TRAUMA   \n",
       "58972                                                SAH   \n",
       "58973                                   RENAL CANCER/SDA   \n",
       "58974                                           S/P FALL   \n",
       "58975                            INTRACRANIAL HEMORRHAGE   \n",
       "\n",
       "       HOSPITAL_EXPIRE_FLAG  HAS_CHARTEVENTS_DATA  \n",
       "0                         0                     1  \n",
       "1                         0                     1  \n",
       "2                         0                     1  \n",
       "3                         0                     1  \n",
       "4                         0                     1  \n",
       "...                     ...                   ...  \n",
       "58971                     0                     1  \n",
       "58972                     1                     1  \n",
       "58973                     0                     1  \n",
       "58974                     0                     0  \n",
       "58975                     0                     1  \n",
       "\n",
       "[58951 rows x 19 columns]"
      ]
     },
     "execution_count": 4,
     "metadata": {},
     "output_type": "execute_result"
    }
   ],
   "source": [
    "admission.dropna(subset = ['DIAGNOSIS'])"
   ]
  },
  {
   "cell_type": "code",
   "execution_count": 5,
   "metadata": {},
   "outputs": [],
   "source": [
    "cvd_list = ['Abnormal heart rhythms', 'arrhythmias', 'Aorta', 'Marfan syndrome','Congenital heart disease','Coronary artery','arteries', 'Deep vein thrombosis','pulmonary embolism','Heart attack','Heart failure', 'Heart muscle', 'cardiomyopathy', 'Heart valve','Pericardial', 'Peripheral vascular','Rheumatic heart','Stroke', 'vasulcar', 'blood vessel']\n",
    "cvd_upper = [str.upper(item) for item in cvd_list] "
   ]
  },
  {
   "cell_type": "code",
   "execution_count": 6,
   "metadata": {},
   "outputs": [],
   "source": [
    "index_cvd = admission['DIAGNOSIS'].str.contains('ABNORMAL HEART RHYTHMS')\n",
    "for item in cvd_upper:\n",
    "    index_temp = admission['DIAGNOSIS'].str.contains(item)\n",
    "    index_cvd = index_cvd | index_temp"
   ]
  },
  {
   "cell_type": "code",
   "execution_count": 7,
   "metadata": {},
   "outputs": [
    {
     "data": {
      "text/plain": [
       "6766"
      ]
     },
     "execution_count": 7,
     "metadata": {},
     "output_type": "execute_result"
    }
   ],
   "source": [
    "sum(index_cvd) "
   ]
  },
  {
   "cell_type": "code",
   "execution_count": 8,
   "metadata": {},
   "outputs": [],
   "source": [
    "admission_cvd = admission[index_cvd]"
   ]
  },
  {
   "cell_type": "code",
   "execution_count": 9,
   "metadata": {},
   "outputs": [
    {
     "data": {
      "text/plain": [
       "6379"
      ]
     },
     "execution_count": 9,
     "metadata": {},
     "output_type": "execute_result"
    }
   ],
   "source": [
    "len(np.unique(admission_cvd['SUBJECT_ID']))"
   ]
  },
  {
   "cell_type": "markdown",
   "metadata": {},
   "source": [
    "# time processing"
   ]
  },
  {
   "cell_type": "code",
   "execution_count": 10,
   "metadata": {},
   "outputs": [
    {
     "data": {
      "text/plain": [
       "'2100-07-11 06:15:00'"
      ]
     },
     "execution_count": 10,
     "metadata": {},
     "output_type": "execute_result"
    }
   ],
   "source": [
    "admission_cvd['ADMITTIME'].min() "
   ]
  },
  {
   "cell_type": "code",
   "execution_count": 11,
   "metadata": {},
   "outputs": [
    {
     "data": {
      "text/plain": [
       "'2209-07-14 21:35:00'"
      ]
     },
     "execution_count": 11,
     "metadata": {},
     "output_type": "execute_result"
    }
   ],
   "source": [
    "admission_cvd['ADMITTIME'].max() "
   ]
  },
  {
   "cell_type": "code",
   "execution_count": 12,
   "metadata": {},
   "outputs": [
    {
     "data": {
      "text/plain": [
       "2109-04-22 07:15:00    2\n",
       "2169-06-07 08:00:00    2\n",
       "2162-06-21 07:15:00    2\n",
       "2101-09-05 07:15:00    2\n",
       "2157-05-31 07:15:00    2\n",
       "                      ..\n",
       "2168-09-29 15:21:00    1\n",
       "2190-07-21 19:38:00    1\n",
       "2179-05-05 17:57:00    1\n",
       "2189-12-21 07:15:00    1\n",
       "2121-07-29 20:14:00    1\n",
       "Name: ADMITTIME, Length: 6739, dtype: int64"
      ]
     },
     "execution_count": 12,
     "metadata": {},
     "output_type": "execute_result"
    }
   ],
   "source": [
    "admission_cvd['ADMITTIME'].value_counts() "
   ]
  },
  {
   "cell_type": "code",
   "execution_count": 13,
   "metadata": {},
   "outputs": [],
   "source": [
    "admission_cvd['ADMITTIME'] = pd.to_datetime(admission_cvd['ADMITTIME']) "
   ]
  },
  {
   "cell_type": "code",
   "execution_count": 14,
   "metadata": {},
   "outputs": [],
   "source": [
    "admission_cvd['DISCHTIME'] = pd.to_datetime(admission_cvd['DISCHTIME']) "
   ]
  },
  {
   "cell_type": "code",
   "execution_count": 15,
   "metadata": {},
   "outputs": [],
   "source": [
    "admission_cvd['ADMI_DAYS'] = admission_cvd['ADMITTIME'] - admission_cvd['ADMITTIME'].min() \n",
    "admission_cvd['DIS_DAYS'] = admission_cvd['DISCHTIME'] - admission_cvd['DISCHTIME'].min() "
   ]
  },
  {
   "cell_type": "code",
   "execution_count": 16,
   "metadata": {},
   "outputs": [],
   "source": [
    "admission_cvd['ADMI_DAYS'] = [item.days for item in admission_cvd['ADMI_DAYS']]"
   ]
  },
  {
   "cell_type": "code",
   "execution_count": 17,
   "metadata": {},
   "outputs": [],
   "source": [
    "admission_cvd['DIS_DAYS'] = [item.days for item in admission_cvd['DIS_DAYS']]"
   ]
  },
  {
   "cell_type": "code",
   "execution_count": 18,
   "metadata": {},
   "outputs": [
    {
     "data": {
      "text/plain": [
       "Index(['ROW_ID', 'SUBJECT_ID', 'HADM_ID', 'ADMITTIME', 'DISCHTIME',\n",
       "       'DEATHTIME', 'ADMISSION_TYPE', 'ADMISSION_LOCATION',\n",
       "       'DISCHARGE_LOCATION', 'INSURANCE', 'LANGUAGE', 'RELIGION',\n",
       "       'MARITAL_STATUS', 'ETHNICITY', 'EDREGTIME', 'EDOUTTIME', 'DIAGNOSIS',\n",
       "       'HOSPITAL_EXPIRE_FLAG', 'HAS_CHARTEVENTS_DATA', 'ADMI_DAYS',\n",
       "       'DIS_DAYS'],\n",
       "      dtype='object')"
      ]
     },
     "execution_count": 18,
     "metadata": {},
     "output_type": "execute_result"
    }
   ],
   "source": [
    "admission_cvd.columns"
   ]
  },
  {
   "cell_type": "code",
   "execution_count": 19,
   "metadata": {},
   "outputs": [],
   "source": [
    "admission_cvd_used = admission_cvd[['SUBJECT_ID', 'HADM_ID',\n",
    "       'ADMISSION_TYPE','DIAGNOSIS', 'ADMI_DAYS','DIS_DAYS']]"
   ]
  },
  {
   "cell_type": "code",
   "execution_count": 20,
   "metadata": {},
   "outputs": [],
   "source": [
    "admission_cvd_used['SPEND_TIME'] = admission_cvd_used['DIS_DAYS'] - admission_cvd_used['ADMI_DAYS'] "
   ]
  },
  {
   "cell_type": "code",
   "execution_count": 21,
   "metadata": {},
   "outputs": [],
   "source": [
    "admission_cvd_used.to_csv('admission_cvd.csv')"
   ]
  },
  {
   "cell_type": "code",
   "execution_count": 22,
   "metadata": {},
   "outputs": [
    {
     "data": {
      "text/html": [
       "<div>\n",
       "<style scoped>\n",
       "    .dataframe tbody tr th:only-of-type {\n",
       "        vertical-align: middle;\n",
       "    }\n",
       "\n",
       "    .dataframe tbody tr th {\n",
       "        vertical-align: top;\n",
       "    }\n",
       "\n",
       "    .dataframe thead th {\n",
       "        text-align: right;\n",
       "    }\n",
       "</style>\n",
       "<table border=\"1\" class=\"dataframe\">\n",
       "  <thead>\n",
       "    <tr style=\"text-align: right;\">\n",
       "      <th></th>\n",
       "      <th>SUBJECT_ID</th>\n",
       "      <th>HADM_ID</th>\n",
       "      <th>ADMISSION_TYPE</th>\n",
       "      <th>DIAGNOSIS</th>\n",
       "      <th>ADMI_DAYS</th>\n",
       "      <th>DIS_DAYS</th>\n",
       "      <th>SPEND_TIME</th>\n",
       "    </tr>\n",
       "  </thead>\n",
       "  <tbody>\n",
       "    <tr>\n",
       "      <th>1</th>\n",
       "      <td>23</td>\n",
       "      <td>152223</td>\n",
       "      <td>ELECTIVE</td>\n",
       "      <td>CORONARY ARTERY DISEASE\\CORONARY ARTERY BYPASS...</td>\n",
       "      <td>19412</td>\n",
       "      <td>19413</td>\n",
       "      <td>1</td>\n",
       "    </tr>\n",
       "    <tr>\n",
       "      <th>7</th>\n",
       "      <td>28</td>\n",
       "      <td>162569</td>\n",
       "      <td>ELECTIVE</td>\n",
       "      <td>CORONARY ARTERY DISEASE\\CORONARY ARTERY BYPASS...</td>\n",
       "      <td>28176</td>\n",
       "      <td>28177</td>\n",
       "      <td>1</td>\n",
       "    </tr>\n",
       "    <tr>\n",
       "      <th>14</th>\n",
       "      <td>35</td>\n",
       "      <td>166707</td>\n",
       "      <td>ELECTIVE</td>\n",
       "      <td>AORTIC VALVE DISEASE\\CORONARY ARTERY BYPASS GR...</td>\n",
       "      <td>7884</td>\n",
       "      <td>7889</td>\n",
       "      <td>5</td>\n",
       "    </tr>\n",
       "    <tr>\n",
       "      <th>15</th>\n",
       "      <td>36</td>\n",
       "      <td>182104</td>\n",
       "      <td>EMERGENCY</td>\n",
       "      <td>CORONARY ARTERY DISEASE\\CORONARY ARTERY BYPASS...</td>\n",
       "      <td>11250</td>\n",
       "      <td>11253</td>\n",
       "      <td>3</td>\n",
       "    </tr>\n",
       "    <tr>\n",
       "      <th>18</th>\n",
       "      <td>37</td>\n",
       "      <td>188670</td>\n",
       "      <td>EMERGENCY</td>\n",
       "      <td>CONGESTIVE HEART FAILURE</td>\n",
       "      <td>30356</td>\n",
       "      <td>30357</td>\n",
       "      <td>1</td>\n",
       "    </tr>\n",
       "    <tr>\n",
       "      <th>...</th>\n",
       "      <td>...</td>\n",
       "      <td>...</td>\n",
       "      <td>...</td>\n",
       "      <td>...</td>\n",
       "      <td>...</td>\n",
       "      <td>...</td>\n",
       "      <td>...</td>\n",
       "    </tr>\n",
       "    <tr>\n",
       "      <th>58913</th>\n",
       "      <td>98634</td>\n",
       "      <td>131717</td>\n",
       "      <td>EMERGENCY</td>\n",
       "      <td>CORONARY ARTERY DISEASE</td>\n",
       "      <td>13365</td>\n",
       "      <td>13366</td>\n",
       "      <td>1</td>\n",
       "    </tr>\n",
       "    <tr>\n",
       "      <th>58915</th>\n",
       "      <td>98639</td>\n",
       "      <td>167385</td>\n",
       "      <td>ELECTIVE</td>\n",
       "      <td>CONGESTIVE HEART FAILURE\\Transcatheter Aortic ...</td>\n",
       "      <td>6980</td>\n",
       "      <td>6984</td>\n",
       "      <td>4</td>\n",
       "    </tr>\n",
       "    <tr>\n",
       "      <th>58940</th>\n",
       "      <td>98714</td>\n",
       "      <td>171885</td>\n",
       "      <td>EMERGENCY</td>\n",
       "      <td>CORONARY ARTERY DISEASE\\RIGHT CORONARY ARTERY ...</td>\n",
       "      <td>1585</td>\n",
       "      <td>1583</td>\n",
       "      <td>-2</td>\n",
       "    </tr>\n",
       "    <tr>\n",
       "      <th>58944</th>\n",
       "      <td>98733</td>\n",
       "      <td>152232</td>\n",
       "      <td>EMERGENCY</td>\n",
       "      <td>CORONARY ARTERY DISEASE</td>\n",
       "      <td>819</td>\n",
       "      <td>822</td>\n",
       "      <td>3</td>\n",
       "    </tr>\n",
       "    <tr>\n",
       "      <th>58954</th>\n",
       "      <td>98748</td>\n",
       "      <td>122488</td>\n",
       "      <td>ELECTIVE</td>\n",
       "      <td>CORONARY ARTERY DISEASE\\CORONARY ARTERY BYPASS...</td>\n",
       "      <td>24279</td>\n",
       "      <td>24279</td>\n",
       "      <td>0</td>\n",
       "    </tr>\n",
       "  </tbody>\n",
       "</table>\n",
       "<p>6766 rows × 7 columns</p>\n",
       "</div>"
      ],
      "text/plain": [
       "       SUBJECT_ID  HADM_ID ADMISSION_TYPE  \\\n",
       "1              23   152223       ELECTIVE   \n",
       "7              28   162569       ELECTIVE   \n",
       "14             35   166707       ELECTIVE   \n",
       "15             36   182104      EMERGENCY   \n",
       "18             37   188670      EMERGENCY   \n",
       "...           ...      ...            ...   \n",
       "58913       98634   131717      EMERGENCY   \n",
       "58915       98639   167385       ELECTIVE   \n",
       "58940       98714   171885      EMERGENCY   \n",
       "58944       98733   152232      EMERGENCY   \n",
       "58954       98748   122488       ELECTIVE   \n",
       "\n",
       "                                               DIAGNOSIS  ADMI_DAYS  DIS_DAYS  \\\n",
       "1      CORONARY ARTERY DISEASE\\CORONARY ARTERY BYPASS...      19412     19413   \n",
       "7      CORONARY ARTERY DISEASE\\CORONARY ARTERY BYPASS...      28176     28177   \n",
       "14     AORTIC VALVE DISEASE\\CORONARY ARTERY BYPASS GR...       7884      7889   \n",
       "15     CORONARY ARTERY DISEASE\\CORONARY ARTERY BYPASS...      11250     11253   \n",
       "18                              CONGESTIVE HEART FAILURE      30356     30357   \n",
       "...                                                  ...        ...       ...   \n",
       "58913                            CORONARY ARTERY DISEASE      13365     13366   \n",
       "58915  CONGESTIVE HEART FAILURE\\Transcatheter Aortic ...       6980      6984   \n",
       "58940  CORONARY ARTERY DISEASE\\RIGHT CORONARY ARTERY ...       1585      1583   \n",
       "58944                            CORONARY ARTERY DISEASE        819       822   \n",
       "58954  CORONARY ARTERY DISEASE\\CORONARY ARTERY BYPASS...      24279     24279   \n",
       "\n",
       "       SPEND_TIME  \n",
       "1               1  \n",
       "7               1  \n",
       "14              5  \n",
       "15              3  \n",
       "18              1  \n",
       "...           ...  \n",
       "58913           1  \n",
       "58915           4  \n",
       "58940          -2  \n",
       "58944           3  \n",
       "58954           0  \n",
       "\n",
       "[6766 rows x 7 columns]"
      ]
     },
     "execution_count": 22,
     "metadata": {},
     "output_type": "execute_result"
    }
   ],
   "source": [
    "admission_cvd_used"
   ]
  },
  {
   "cell_type": "markdown",
   "metadata": {},
   "source": [
    "# second part "
   ]
  },
  {
   "cell_type": "code",
   "execution_count": 23,
   "metadata": {},
   "outputs": [],
   "source": [
    "admission_cvd_used = pd.read_csv('./admission_cvd.csv', index_col=0)  "
   ]
  },
  {
   "cell_type": "code",
   "execution_count": 24,
   "metadata": {},
   "outputs": [],
   "source": [
    "admission_cvd_used = pd.get_dummies(admission_cvd_used, columns=['ADMISSION_TYPE'],drop_first=True)"
   ]
  },
  {
   "cell_type": "markdown",
   "metadata": {},
   "source": [
    "# encoding result "
   ]
  },
  {
   "cell_type": "code",
   "execution_count": 25,
   "metadata": {},
   "outputs": [],
   "source": [
    "%store -r embeddings"
   ]
  },
  {
   "cell_type": "code",
   "execution_count": 26,
   "metadata": {},
   "outputs": [],
   "source": [
    "for i in range(len(cvd_upper)):\n",
    "    name = str(i)\n",
    "    admission_cvd_used[name] = admission_cvd_used['DIAGNOSIS'].str.contains(cvd_upper[i])"
   ]
  },
  {
   "cell_type": "code",
   "execution_count": 27,
   "metadata": {},
   "outputs": [],
   "source": [
    "data_embeddings = np.zeros([len(admission_cvd_used),len(cvd_upper)])\n",
    "i = 0\n",
    "for idx in admission_cvd_used.index:\n",
    "    for j in range(len(cvd_upper)):\n",
    "        if admission_cvd_used[str(j)][idx]:\n",
    "            data_embeddings[i] += embeddings[str(j)]\n",
    "    i = i+1"
   ]
  },
  {
   "cell_type": "code",
   "execution_count": 28,
   "metadata": {},
   "outputs": [],
   "source": [
    "df_embeddings = pd.DataFrame(data=data_embeddings,index=admission_cvd_used.index) "
   ]
  },
  {
   "cell_type": "code",
   "execution_count": 29,
   "metadata": {},
   "outputs": [],
   "source": [
    "index = admission_cvd_used.columns \n",
    "admission_cvd_used = pd.concat([admission_cvd_used.loc[:,['SUBJECT_ID', 'HADM_ID', 'DIAGNOSIS', 'ADMI_DAYS', 'DIS_DAYS',\n",
    "       'SPEND_TIME', 'ADMISSION_TYPE_EMERGENCY', 'ADMISSION_TYPE_URGENT']], df_embeddings],axis=1)  \n",
    "admission_cvd_used.columns = index"
   ]
  },
  {
   "cell_type": "code",
   "execution_count": 30,
   "metadata": {},
   "outputs": [
    {
     "data": {
      "text/plain": [
       "SUBJECT_ID                                                                 23\n",
       "HADM_ID                                                                152223\n",
       "DIAGNOSIS                   CORONARY ARTERY DISEASE\\CORONARY ARTERY BYPASS...\n",
       "ADMI_DAYS                                                               19412\n",
       "DIS_DAYS                                                                19413\n",
       "SPEND_TIME                                                                  1\n",
       "ADMISSION_TYPE_EMERGENCY                                                    0\n",
       "ADMISSION_TYPE_URGENT                                                       0\n",
       "0                                                                   0.0218092\n",
       "1                                                                  -0.0209848\n",
       "2                                                                -0.000340765\n",
       "3                                                                  -0.0216808\n",
       "4                                                                 -0.00747071\n",
       "5                                                                   -0.018355\n",
       "6                                                                   -0.016266\n",
       "7                                                                   0.0194985\n",
       "8                                                                   -0.011405\n",
       "9                                                                    0.022246\n",
       "10                                                                  0.0214744\n",
       "11                                                                   0.022293\n",
       "12                                                                  0.0131284\n",
       "13                                                                  0.0117485\n",
       "14                                                                -0.00957095\n",
       "15                                                                  0.0127379\n",
       "16                                                               -0.000369442\n",
       "17                                                                   0.014588\n",
       "18                                                                 0.00211906\n",
       "19                                                                 -0.0011189\n",
       "Name: 1, dtype: object"
      ]
     },
     "execution_count": 30,
     "metadata": {},
     "output_type": "execute_result"
    }
   ],
   "source": [
    "admission_cvd_used.loc[1,:]"
   ]
  },
  {
   "cell_type": "code",
   "execution_count": 31,
   "metadata": {},
   "outputs": [],
   "source": [
    "subject_list = np.unique(admission_cvd_used['SUBJECT_ID'])"
   ]
  },
  {
   "cell_type": "code",
   "execution_count": 32,
   "metadata": {},
   "outputs": [],
   "source": [
    "admission_cvd_used['ADMI_DAYS']  = admission_cvd_used['ADMI_DAYS'] // 1000"
   ]
  },
  {
   "cell_type": "markdown",
   "metadata": {},
   "source": [
    "# vector of people"
   ]
  },
  {
   "cell_type": "code",
   "execution_count": 33,
   "metadata": {},
   "outputs": [],
   "source": [
    "admission_cvd_cal = admission_cvd_used[['SUBJECT_ID', 'ADMI_DAYS',\n",
    "       'SPEND_TIME', 'ADMISSION_TYPE_EMERGENCY', 'ADMISSION_TYPE_URGENT', '0',\n",
    "       '1', '2', '3', '4', '5', '6', '7', '8', '9', '10', '11', '12', '13',\n",
    "       '14', '15', '16', '17', '18', '19']]"
   ]
  },
  {
   "cell_type": "code",
   "execution_count": 34,
   "metadata": {},
   "outputs": [
    {
     "name": "stdout",
     "output_type": "stream",
     "text": [
      "Stored 'admission_cvd_cal' (DataFrame)\n"
     ]
    }
   ],
   "source": [
    "%store admission_cvd_cal"
   ]
  },
  {
   "cell_type": "code",
   "execution_count": 34,
   "metadata": {},
   "outputs": [],
   "source": [
    "df_test = admission_cvd_cal[admission_cvd_cal['SUBJECT_ID']==19059]\n",
    "df_test = df_test.set_index('SUBJECT_ID')\n",
    "a = df_test.values.reshape(-1, 1)"
   ]
  },
  {
   "cell_type": "code",
   "execution_count": 35,
   "metadata": {},
   "outputs": [],
   "source": [
    "df_b = admission_cvd_cal[admission_cvd_cal['SUBJECT_ID']==97441]\n",
    "df_b = df_b.set_index('SUBJECT_ID')\n",
    "b = df_b.values"
   ]
  },
  {
   "cell_type": "markdown",
   "metadata": {},
   "source": [
    "# compute distance"
   ]
  },
  {
   "cell_type": "code",
   "execution_count": 36,
   "metadata": {},
   "outputs": [],
   "source": [
    "from dtw import dtw"
   ]
  },
  {
   "cell_type": "code",
   "execution_count": 37,
   "metadata": {},
   "outputs": [],
   "source": [
    "def vec_reshape(id):\n",
    "    df_test = admission_cvd_cal[admission_cvd_cal['SUBJECT_ID']==id]\n",
    "    df_test = df_test.set_index('SUBJECT_ID')\n",
    "    x = df_test.values.reshape(-1, 1)\n",
    "    return x"
   ]
  },
  {
   "cell_type": "code",
   "execution_count": 38,
   "metadata": {},
   "outputs": [],
   "source": [
    "def cal_dist(x, y):\n",
    "    manhattan_distance = lambda x, y: np.abs(x - y)\n",
    "    d, cost_matrix, acc_cost_matrix, path = dtw(x, y, dist=manhattan_distance)\n",
    "    return d "
   ]
  },
  {
   "cell_type": "code",
   "execution_count": 39,
   "metadata": {},
   "outputs": [],
   "source": [
    "index = admission_cvd_cal['SUBJECT_ID'].value_counts().values >1 "
   ]
  },
  {
   "cell_type": "code",
   "execution_count": 40,
   "metadata": {},
   "outputs": [],
   "source": [
    "more_than_one = admission_cvd_cal['SUBJECT_ID'][:sum(index)].values "
   ]
  },
  {
   "cell_type": "code",
   "execution_count": 41,
   "metadata": {},
   "outputs": [],
   "source": [
    "multi_coordinate = []\n",
    "for id in subject_list:\n",
    "    multi_coordinate.append(vec_reshape(id))"
   ]
  },
  {
   "cell_type": "code",
   "execution_count": 42,
   "metadata": {},
   "outputs": [],
   "source": [
    "distance_matrix_sample = np.zeros((len(subject_list)//10, len(subject_list)//10))"
   ]
  },
  {
   "cell_type": "markdown",
   "metadata": {},
   "source": [
    "# sample distance matrix "
   ]
  },
  {
   "cell_type": "code",
   "execution_count": 27,
   "metadata": {},
   "outputs": [
    {
     "name": "stdout",
     "output_type": "stream",
     "text": [
      "remaining: 637\n",
      "remaining: 636\n",
      "remaining: 635\n",
      "remaining: 634\n",
      "remaining: 633\n",
      "remaining: 632\n",
      "remaining: 631\n",
      "remaining: 630\n",
      "remaining: 629\n",
      "remaining: 628\n",
      "remaining: 627\n",
      "remaining: 626\n",
      "remaining: 625\n",
      "remaining: 624\n",
      "remaining: 623\n",
      "remaining: 622\n",
      "remaining: 621\n",
      "remaining: 620\n",
      "remaining: 619\n",
      "remaining: 618\n",
      "remaining: 617\n",
      "remaining: 616\n",
      "remaining: 615\n",
      "remaining: 614\n",
      "remaining: 613\n",
      "remaining: 612\n",
      "remaining: 611\n",
      "remaining: 610\n",
      "remaining: 609\n",
      "remaining: 608\n",
      "remaining: 607\n",
      "remaining: 606\n",
      "remaining: 605\n",
      "remaining: 604\n",
      "remaining: 603\n",
      "remaining: 602\n",
      "remaining: 601\n",
      "remaining: 600\n",
      "remaining: 599\n",
      "remaining: 598\n",
      "remaining: 597\n",
      "remaining: 596\n",
      "remaining: 595\n",
      "remaining: 594\n",
      "remaining: 593\n",
      "remaining: 592\n",
      "remaining: 591\n",
      "remaining: 590\n",
      "remaining: 589\n",
      "remaining: 588\n",
      "remaining: 587\n",
      "remaining: 586\n",
      "remaining: 585\n",
      "remaining: 584\n",
      "remaining: 583\n",
      "remaining: 582\n",
      "remaining: 581\n",
      "remaining: 580\n",
      "remaining: 579\n",
      "remaining: 578\n",
      "remaining: 577\n",
      "remaining: 576\n",
      "remaining: 575\n",
      "remaining: 574\n",
      "remaining: 573\n",
      "remaining: 572\n",
      "remaining: 571\n",
      "remaining: 570\n",
      "remaining: 569\n",
      "remaining: 568\n",
      "remaining: 567\n",
      "remaining: 566\n",
      "remaining: 565\n",
      "remaining: 564\n",
      "remaining: 563\n",
      "remaining: 562\n",
      "remaining: 561\n",
      "remaining: 560\n",
      "remaining: 559\n",
      "remaining: 558\n",
      "remaining: 557\n",
      "remaining: 556\n",
      "remaining: 555\n",
      "remaining: 554\n",
      "remaining: 553\n",
      "remaining: 552\n",
      "remaining: 551\n",
      "remaining: 550\n",
      "remaining: 549\n",
      "remaining: 548\n",
      "remaining: 547\n",
      "remaining: 546\n",
      "remaining: 545\n",
      "remaining: 544\n",
      "remaining: 543\n",
      "remaining: 542\n",
      "remaining: 541\n",
      "remaining: 540\n",
      "remaining: 539\n",
      "remaining: 538\n",
      "remaining: 537\n",
      "remaining: 536\n",
      "remaining: 535\n",
      "remaining: 534\n",
      "remaining: 533\n",
      "remaining: 532\n",
      "remaining: 531\n",
      "remaining: 530\n",
      "remaining: 529\n",
      "remaining: 528\n",
      "remaining: 527\n",
      "remaining: 526\n",
      "remaining: 525\n",
      "remaining: 524\n",
      "remaining: 523\n",
      "remaining: 522\n",
      "remaining: 521\n",
      "remaining: 520\n",
      "remaining: 519\n",
      "remaining: 518\n",
      "remaining: 517\n",
      "remaining: 516\n",
      "remaining: 515\n",
      "remaining: 514\n",
      "remaining: 513\n",
      "remaining: 512\n",
      "remaining: 511\n",
      "remaining: 510\n",
      "remaining: 509\n",
      "remaining: 508\n",
      "remaining: 507\n",
      "remaining: 506\n",
      "remaining: 505\n",
      "remaining: 504\n",
      "remaining: 503\n",
      "remaining: 502\n",
      "remaining: 501\n",
      "remaining: 500\n",
      "remaining: 499\n",
      "remaining: 498\n",
      "remaining: 497\n",
      "remaining: 496\n",
      "remaining: 495\n",
      "remaining: 494\n",
      "remaining: 493\n",
      "remaining: 492\n",
      "remaining: 491\n",
      "remaining: 490\n",
      "remaining: 489\n",
      "remaining: 488\n",
      "remaining: 487\n",
      "remaining: 486\n",
      "remaining: 485\n",
      "remaining: 484\n",
      "remaining: 483\n",
      "remaining: 482\n",
      "remaining: 481\n",
      "remaining: 480\n",
      "remaining: 479\n",
      "remaining: 478\n",
      "remaining: 477\n",
      "remaining: 476\n",
      "remaining: 475\n",
      "remaining: 474\n",
      "remaining: 473\n",
      "remaining: 472\n",
      "remaining: 471\n",
      "remaining: 470\n",
      "remaining: 469\n",
      "remaining: 468\n",
      "remaining: 467\n",
      "remaining: 466\n",
      "remaining: 465\n",
      "remaining: 464\n",
      "remaining: 463\n",
      "remaining: 462\n",
      "remaining: 461\n",
      "remaining: 460\n",
      "remaining: 459\n",
      "remaining: 458\n",
      "remaining: 457\n",
      "remaining: 456\n",
      "remaining: 455\n",
      "remaining: 454\n",
      "remaining: 453\n",
      "remaining: 452\n",
      "remaining: 451\n",
      "remaining: 450\n",
      "remaining: 449\n",
      "remaining: 448\n",
      "remaining: 447\n",
      "remaining: 446\n",
      "remaining: 445\n",
      "remaining: 444\n",
      "remaining: 443\n",
      "remaining: 442\n",
      "remaining: 441\n",
      "remaining: 440\n",
      "remaining: 439\n",
      "remaining: 438\n",
      "remaining: 437\n",
      "remaining: 436\n",
      "remaining: 435\n",
      "remaining: 434\n",
      "remaining: 433\n",
      "remaining: 432\n",
      "remaining: 431\n",
      "remaining: 430\n",
      "remaining: 429\n",
      "remaining: 428\n",
      "remaining: 427\n",
      "remaining: 426\n",
      "remaining: 425\n",
      "remaining: 424\n",
      "remaining: 423\n",
      "remaining: 422\n",
      "remaining: 421\n",
      "remaining: 420\n",
      "remaining: 419\n",
      "remaining: 418\n",
      "remaining: 417\n",
      "remaining: 416\n",
      "remaining: 415\n",
      "remaining: 414\n",
      "remaining: 413\n",
      "remaining: 412\n",
      "remaining: 411\n",
      "remaining: 410\n",
      "remaining: 409\n",
      "remaining: 408\n",
      "remaining: 407\n",
      "remaining: 406\n",
      "remaining: 405\n",
      "remaining: 404\n",
      "remaining: 403\n",
      "remaining: 402\n",
      "remaining: 401\n",
      "remaining: 400\n",
      "remaining: 399\n",
      "remaining: 398\n",
      "remaining: 397\n",
      "remaining: 396\n",
      "remaining: 395\n",
      "remaining: 394\n",
      "remaining: 393\n",
      "remaining: 392\n",
      "remaining: 391\n",
      "remaining: 390\n",
      "remaining: 389\n",
      "remaining: 388\n",
      "remaining: 387\n",
      "remaining: 386\n",
      "remaining: 385\n",
      "remaining: 384\n",
      "remaining: 383\n",
      "remaining: 382\n",
      "remaining: 381\n",
      "remaining: 380\n",
      "remaining: 379\n",
      "remaining: 378\n",
      "remaining: 377\n",
      "remaining: 376\n",
      "remaining: 375\n",
      "remaining: 374\n",
      "remaining: 373\n",
      "remaining: 372\n",
      "remaining: 371\n",
      "remaining: 370\n",
      "remaining: 369\n",
      "remaining: 368\n",
      "remaining: 367\n",
      "remaining: 366\n",
      "remaining: 365\n",
      "remaining: 364\n",
      "remaining: 363\n",
      "remaining: 362\n",
      "remaining: 361\n",
      "remaining: 360\n",
      "remaining: 359\n",
      "remaining: 358\n",
      "remaining: 357\n",
      "remaining: 356\n",
      "remaining: 355\n",
      "remaining: 354\n",
      "remaining: 353\n",
      "remaining: 352\n",
      "remaining: 351\n",
      "remaining: 350\n",
      "remaining: 349\n",
      "remaining: 348\n",
      "remaining: 347\n",
      "remaining: 346\n",
      "remaining: 345\n",
      "remaining: 344\n",
      "remaining: 343\n",
      "remaining: 342\n",
      "remaining: 341\n",
      "remaining: 340\n",
      "remaining: 339\n",
      "remaining: 338\n",
      "remaining: 337\n",
      "remaining: 336\n",
      "remaining: 335\n",
      "remaining: 334\n",
      "remaining: 333\n",
      "remaining: 332\n",
      "remaining: 331\n",
      "remaining: 330\n",
      "remaining: 329\n",
      "remaining: 328\n",
      "remaining: 327\n",
      "remaining: 326\n",
      "remaining: 325\n",
      "remaining: 324\n",
      "remaining: 323\n",
      "remaining: 322\n",
      "remaining: 321\n",
      "remaining: 320\n",
      "remaining: 319\n",
      "remaining: 318\n",
      "remaining: 317\n",
      "remaining: 316\n",
      "remaining: 315\n",
      "remaining: 314\n",
      "remaining: 313\n",
      "remaining: 312\n",
      "remaining: 311\n",
      "remaining: 310\n",
      "remaining: 309\n",
      "remaining: 308\n",
      "remaining: 307\n",
      "remaining: 306\n",
      "remaining: 305\n",
      "remaining: 304\n",
      "remaining: 303\n",
      "remaining: 302\n",
      "remaining: 301\n",
      "remaining: 300\n",
      "remaining: 299\n",
      "remaining: 298\n",
      "remaining: 297\n",
      "remaining: 296\n",
      "remaining: 295\n",
      "remaining: 294\n",
      "remaining: 293\n",
      "remaining: 292\n",
      "remaining: 291\n",
      "remaining: 290\n",
      "remaining: 289\n",
      "remaining: 288\n",
      "remaining: 287\n",
      "remaining: 286\n",
      "remaining: 285\n",
      "remaining: 284\n",
      "remaining: 283\n",
      "remaining: 282\n",
      "remaining: 281\n",
      "remaining: 280\n",
      "remaining: 279\n",
      "remaining: 278\n",
      "remaining: 277\n",
      "remaining: 276\n",
      "remaining: 275\n",
      "remaining: 274\n",
      "remaining: 273\n",
      "remaining: 272\n",
      "remaining: 271\n",
      "remaining: 270\n",
      "remaining: 269\n",
      "remaining: 268\n",
      "remaining: 267\n",
      "remaining: 266\n",
      "remaining: 265\n",
      "remaining: 264\n",
      "remaining: 263\n",
      "remaining: 262\n",
      "remaining: 261\n",
      "remaining: 260\n",
      "remaining: 259\n",
      "remaining: 258\n",
      "remaining: 257\n",
      "remaining: 256\n",
      "remaining: 255\n",
      "remaining: 254\n",
      "remaining: 253\n",
      "remaining: 252\n",
      "remaining: 251\n",
      "remaining: 250\n",
      "remaining: 249\n",
      "remaining: 248\n",
      "remaining: 247\n",
      "remaining: 246\n",
      "remaining: 245\n",
      "remaining: 244\n",
      "remaining: 243\n",
      "remaining: 242\n",
      "remaining: 241\n",
      "remaining: 240\n",
      "remaining: 239\n",
      "remaining: 238\n",
      "remaining: 237\n",
      "remaining: 236\n",
      "remaining: 235\n",
      "remaining: 234\n",
      "remaining: 233\n",
      "remaining: 232\n",
      "remaining: 231\n",
      "remaining: 230\n",
      "remaining: 229\n",
      "remaining: 228\n",
      "remaining: 227\n",
      "remaining: 226\n",
      "remaining: 225\n",
      "remaining: 224\n",
      "remaining: 223\n",
      "remaining: 222\n",
      "remaining: 221\n",
      "remaining: 220\n",
      "remaining: 219\n",
      "remaining: 218\n",
      "remaining: 217\n",
      "remaining: 216\n",
      "remaining: 215\n",
      "remaining: 214\n",
      "remaining: 213\n",
      "remaining: 212\n",
      "remaining: 211\n",
      "remaining: 210\n",
      "remaining: 209\n",
      "remaining: 208\n",
      "remaining: 207\n",
      "remaining: 206\n",
      "remaining: 205\n",
      "remaining: 204\n",
      "remaining: 203\n",
      "remaining: 202\n",
      "remaining: 201\n",
      "remaining: 200\n",
      "remaining: 199\n",
      "remaining: 198\n",
      "remaining: 197\n",
      "remaining: 196\n",
      "remaining: 195\n",
      "remaining: 194\n",
      "remaining: 193\n",
      "remaining: 192\n",
      "remaining: 191\n",
      "remaining: 190\n",
      "remaining: 189\n",
      "remaining: 188\n",
      "remaining: 187\n",
      "remaining: 186\n",
      "remaining: 185\n",
      "remaining: 184\n",
      "remaining: 183\n",
      "remaining: 182\n",
      "remaining: 181\n",
      "remaining: 180\n",
      "remaining: 179\n",
      "remaining: 178\n",
      "remaining: 177\n",
      "remaining: 176\n",
      "remaining: 175\n",
      "remaining: 174\n",
      "remaining: 173\n",
      "remaining: 172\n",
      "remaining: 171\n",
      "remaining: 170\n",
      "remaining: 169\n",
      "remaining: 168\n",
      "remaining: 167\n",
      "remaining: 166\n",
      "remaining: 165\n",
      "remaining: 164\n",
      "remaining: 163\n",
      "remaining: 162\n",
      "remaining: 161\n",
      "remaining: 160\n",
      "remaining: 159\n",
      "remaining: 158\n",
      "remaining: 157\n",
      "remaining: 156\n",
      "remaining: 155\n",
      "remaining: 154\n",
      "remaining: 153\n",
      "remaining: 152\n",
      "remaining: 151\n",
      "remaining: 150\n",
      "remaining: 149\n",
      "remaining: 148\n",
      "remaining: 147\n",
      "remaining: 146\n",
      "remaining: 145\n",
      "remaining: 144\n",
      "remaining: 143\n",
      "remaining: 142\n",
      "remaining: 141\n",
      "remaining: 140\n",
      "remaining: 139\n",
      "remaining: 138\n",
      "remaining: 137\n",
      "remaining: 136\n",
      "remaining: 135\n",
      "remaining: 134\n",
      "remaining: 133\n",
      "remaining: 132\n",
      "remaining: 131\n",
      "remaining: 130\n",
      "remaining: 129\n",
      "remaining: 128\n",
      "remaining: 127\n",
      "remaining: 126\n",
      "remaining: 125\n",
      "remaining: 124\n",
      "remaining: 123\n",
      "remaining: 122\n",
      "remaining: 121\n",
      "remaining: 120\n",
      "remaining: 119\n",
      "remaining: 118\n",
      "remaining: 117\n",
      "remaining: 116\n",
      "remaining: 115\n",
      "remaining: 114\n",
      "remaining: 113\n",
      "remaining: 112\n",
      "remaining: 111\n",
      "remaining: 110\n",
      "remaining: 109\n",
      "remaining: 108\n",
      "remaining: 107\n",
      "remaining: 106\n",
      "remaining: 105\n",
      "remaining: 104\n",
      "remaining: 103\n",
      "remaining: 102\n",
      "remaining: 101\n",
      "remaining: 100\n",
      "remaining: 99\n",
      "remaining: 98\n",
      "remaining: 97\n",
      "remaining: 96\n",
      "remaining: 95\n",
      "remaining: 94\n",
      "remaining: 93\n",
      "remaining: 92\n",
      "remaining: 91\n",
      "remaining: 90\n",
      "remaining: 89\n"
     ]
    },
    {
     "name": "stdout",
     "output_type": "stream",
     "text": [
      "remaining: 88\n",
      "remaining: 87\n",
      "remaining: 86\n",
      "remaining: 85\n",
      "remaining: 84\n",
      "remaining: 83\n",
      "remaining: 82\n",
      "remaining: 81\n",
      "remaining: 80\n",
      "remaining: 79\n",
      "remaining: 78\n",
      "remaining: 77\n",
      "remaining: 76\n",
      "remaining: 75\n",
      "remaining: 74\n",
      "remaining: 73\n",
      "remaining: 72\n",
      "remaining: 71\n",
      "remaining: 70\n",
      "remaining: 69\n",
      "remaining: 68\n",
      "remaining: 67\n",
      "remaining: 66\n",
      "remaining: 65\n",
      "remaining: 64\n",
      "remaining: 63\n",
      "remaining: 62\n",
      "remaining: 61\n",
      "remaining: 60\n",
      "remaining: 59\n",
      "remaining: 58\n",
      "remaining: 57\n",
      "remaining: 56\n",
      "remaining: 55\n",
      "remaining: 54\n",
      "remaining: 53\n",
      "remaining: 52\n",
      "remaining: 51\n",
      "remaining: 50\n",
      "remaining: 49\n",
      "remaining: 48\n",
      "remaining: 47\n",
      "remaining: 46\n",
      "remaining: 45\n",
      "remaining: 44\n",
      "remaining: 43\n",
      "remaining: 42\n",
      "remaining: 41\n",
      "remaining: 40\n",
      "remaining: 39\n",
      "remaining: 38\n",
      "remaining: 37\n",
      "remaining: 36\n",
      "remaining: 35\n",
      "remaining: 34\n",
      "remaining: 33\n",
      "remaining: 32\n",
      "remaining: 31\n",
      "remaining: 30\n",
      "remaining: 29\n",
      "remaining: 28\n",
      "remaining: 27\n",
      "remaining: 26\n",
      "remaining: 25\n",
      "remaining: 24\n",
      "remaining: 23\n",
      "remaining: 22\n",
      "remaining: 21\n",
      "remaining: 20\n",
      "remaining: 19\n",
      "remaining: 18\n",
      "remaining: 17\n",
      "remaining: 16\n",
      "remaining: 15\n",
      "remaining: 14\n",
      "remaining: 13\n",
      "remaining: 12\n",
      "remaining: 11\n",
      "remaining: 10\n",
      "remaining: 9\n",
      "remaining: 8\n",
      "remaining: 7\n",
      "remaining: 6\n",
      "remaining: 5\n",
      "remaining: 4\n",
      "remaining: 3\n",
      "remaining: 2\n",
      "remaining: 1\n"
     ]
    }
   ],
   "source": [
    "for i in range(len(subject_list)//10):\n",
    "    for j in range(i, len(subject_list)//10):\n",
    "        distance_matrix_sample[i,j] = cal_dist(multi_coordinate[i],multi_coordinate[j])\n",
    "        distance_matrix_sample[j,i] = distance_matrix_sample[i,j]\n",
    "    print ('remaining:',len(subject_list)//10-i)"
   ]
  },
  {
   "cell_type": "code",
   "execution_count": 37,
   "metadata": {},
   "outputs": [],
   "source": [
    "df_distance = pd.DataFrame(distance_matrix_sample) "
   ]
  },
  {
   "cell_type": "code",
   "execution_count": 38,
   "metadata": {},
   "outputs": [],
   "source": [
    "df_distance.to_csv('distance_sample.csv')"
   ]
  },
  {
   "cell_type": "code",
   "execution_count": 41,
   "metadata": {},
   "outputs": [
    {
     "data": {
      "text/plain": [
       "(637, 637)"
      ]
     },
     "execution_count": 41,
     "metadata": {},
     "output_type": "execute_result"
    }
   ],
   "source": [
    "np.shape(distance_matrix_sample) "
   ]
  },
  {
   "cell_type": "markdown",
   "metadata": {},
   "source": [
    "# KNN"
   ]
  },
  {
   "cell_type": "code",
   "execution_count": 297,
   "metadata": {},
   "outputs": [],
   "source": [
    "for j in range(len(subject_list)):\n",
    "    distance_matrix[0,j] = cal_dist(subject_list[0],subject_list[j])"
   ]
  },
  {
   "cell_type": "code",
   "execution_count": 48,
   "metadata": {},
   "outputs": [],
   "source": [
    "%store -r id_list"
   ]
  },
  {
   "cell_type": "code",
   "execution_count": 52,
   "metadata": {},
   "outputs": [],
   "source": [
    "dic_distance = dict()\n",
    "for i in range(6379):\n",
    "    dic_distance[id_list[i]] = [id_list[idx] for idx in np.argsort(distance_matrix_sample[i//10-1])[:5]]\n",
    " "
   ]
  },
  {
   "cell_type": "code",
   "execution_count": 53,
   "metadata": {},
   "outputs": [
    {
     "name": "stdout",
     "output_type": "stream",
     "text": [
      "Stored 'dic_distance' (dict)\n"
     ]
    }
   ],
   "source": [
    "%store dic_distance"
   ]
  },
  {
   "cell_type": "code",
   "execution_count": 43,
   "metadata": {},
   "outputs": [
    {
     "data": {
      "text/plain": [
       "array([  0, 458, 415, 373, 354])"
      ]
     },
     "execution_count": 43,
     "metadata": {},
     "output_type": "execute_result"
    }
   ],
   "source": [
    "np.argsort(distance_matrix_sample[0])[:5]"
   ]
  },
  {
   "cell_type": "code",
   "execution_count": 311,
   "metadata": {},
   "outputs": [
    {
     "data": {
      "text/plain": [
       "13"
      ]
     },
     "execution_count": 311,
     "metadata": {},
     "output_type": "execute_result"
    }
   ],
   "source": [
    "subject_list[0]"
   ]
  },
  {
   "cell_type": "markdown",
   "metadata": {},
   "source": [
    "# DTW"
   ]
  },
  {
   "cell_type": "code",
   "execution_count": 258,
   "metadata": {},
   "outputs": [
    {
     "name": "stdout",
     "output_type": "stream",
     "text": [
      "217.0\n"
     ]
    },
    {
     "data": {
      "image/png": "[encoded data removed]",
      "text/plain": [
       "<Figure size 432x288 with 1 Axes>"
      ]
     },
     "metadata": {
      "needs_background": "light"
     },
     "output_type": "display_data"
    }
   ],
   "source": [
    "manhattan_distance = lambda x, y: np.abs(x - y)\n",
    "d, cost_matrix, acc_cost_matrix, path = dtw(x, y, dist=manhattan_distance)\n",
    "print(d)\n",
    "plt.imshow(acc_cost_matrix.T, origin='lower', cmap='gray', interpolation='nearest')\n",
    "plt.plot(path[0], path[1], 'w')\n",
    "plt.show()\n",
    "# patient 19059 & patient 97441"
   ]
  },
  {
   "cell_type": "code",
   "execution_count": 35,
   "metadata": {},
   "outputs": [],
   "source": [
    "admission = admission.set_index('HADM_ID')"
   ]
  },
  {
   "cell_type": "code",
   "execution_count": 36,
   "metadata": {},
   "outputs": [
    {
     "name": "stdout",
     "output_type": "stream",
     "text": [
      "Stored 'admission' (DataFrame)\n"
     ]
    }
   ],
   "source": [
    "%store admission"
   ]
  }
 ],
 "metadata": {
  "kernelspec": {
   "display_name": "py3",
   "language": "python",
   "name": "py3"
  },
  "language_info": {
   "codemirror_mode": {
    "name": "ipython",
    "version": 3
   },
   "file_extension": ".py",
   "mimetype": "text/x-python",
   "name": "python",
   "nbconvert_exporter": "python",
   "pygments_lexer": "ipython3",
   "version": "3.7.6"
  }
 },
 "nbformat": 4,
 "nbformat_minor": 2
}
